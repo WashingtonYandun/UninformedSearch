{
 "cells": [
  {
   "cell_type": "markdown",
   "metadata": {},
   "source": [
    "# Problem 1\n",
    "\n",
    "Using the graph presented in `Figure 1` as input, and assuming that the goal state is `11`, list the order in\n",
    "which the nodes will be visited (i.e., expanded) if they are generated in `ascending order`:\n",
    "\n",
    "1. When using breadth-first search.\n",
    "2. When using depth-first search.\n",
    "3. When using iterative deepening depth-first search.\n",
    "\n",
    "<p align=\"center\">\n",
    "  <img width=\"400\" alt=\"figure1\" src=\"./images/figure1.png\"/>\n",
    "</p>\n",
    "\n",
    "As we can see is obvious that a solution exists, and the graph is a tree, so we can use the search algorithms\n",
    "to find the solution and the order in which the nodes will be visited.\n"
   ]
  },
  {
   "cell_type": "markdown",
   "metadata": {},
   "source": [
    "# Main Objectives\n",
    "\n",
    "The main objective of this problem is to understand the differences between the three search algorithms presented\n",
    "in the question. In particular, the goal is to understand how the order in which the nodes are generated can affect\n",
    "the performance of the search algorithms.\n",
    "\n",
    "# Secondary Objectives\n",
    "\n",
    "The secondary objectives are the following:\n",
    "\n",
    "1. Compare the performance between the three search algorithms\n",
    "2. Compare the performance of the 2 implementations of graph implementation (dictionary and networkx library)\n"
   ]
  },
  {
   "cell_type": "markdown",
   "metadata": {},
   "source": [
    "# Libraries\n",
    "\n",
    "For this purpose, the following libraries will be necessary:\n",
    "\n",
    "-   **Networkx**: For efficient handling of graphs and/or trees\n",
    "-   **Matplotlib**: To display both the problem and the results of the analysis\n",
    "-   **Numpy**: For numerical analysis\n",
    "-   **Pandas**: For handling large volumes of data\n",
    "\n",
    "In the following cell, the necessary libraries will be imported.\n"
   ]
  },
  {
   "cell_type": "markdown",
   "metadata": {},
   "source": [
    "# Dictionary-based Graph Representation\n",
    "\n",
    "The first implementation of the graph will be a dictionary-based representation.\n",
    "In this implementation, the graph will be represented as a dictionary where the keys are the nodes\n",
    "and the values are the neighborsof the nodes. The following cell will present the implementation of the graph.\n"
   ]
  },
  {
   "cell_type": "markdown",
   "metadata": {},
   "source": [
    "In the following cell, the graph will be implemented as a dictionary-based representation and the necessary\n",
    "libraries will be imported.\n",
    "\n",
    "Those libraries are:\n",
    "\n",
    "-   **Deque**: For efficient handling of queues (Optional)\n",
    "-   **List**: For handling lists of data (Optional)\n",
    "-   **Optional**: For handling optional data (Optional)\n",
    "-   **Dict**: For handling dictionaries of data\n",
    "-   **Set**: For handling sets of data\n"
   ]
  },
  {
   "cell_type": "code",
   "execution_count": 129,
   "metadata": {},
   "outputs": [],
   "source": [
    "from collections import deque\n",
    "from typing import Dict, List, Optional, Set"
   ]
  },
  {
   "cell_type": "markdown",
   "metadata": {},
   "source": [
    "For the implementation of the graph as a dictionary a function called `create_graph_dict` will be created. This function\n",
    "will return a dictionary where the keys are the nodes and the values are the neighbors of the nodes.\n",
    "The following cell will present the implementation of the graph.\n"
   ]
  },
  {
   "cell_type": "code",
   "execution_count": 130,
   "metadata": {},
   "outputs": [],
   "source": [
    "def create_graph_dict() -> Dict[int, List[int]]:\n",
    "    \"\"\"Create a graph with predefined edges using a dictionary.\n",
    "\n",
    "    Returns:\n",
    "        Dict[int, List[int]]: A dictionary representing the graph.\n",
    "    \"\"\"\n",
    "    edges: Dict[int, List[int]] = {\n",
    "        1: [2, 3],\n",
    "        2: [4, 5],\n",
    "        3: [6, 7],\n",
    "        4: [8, 9],\n",
    "        5: [10, 11],\n",
    "        6: [12, 13],\n",
    "        7: [14, 15],\n",
    "\n",
    "        # Add empty lists for nodes with no edges (leaf nodes)\n",
    "        8: [],\n",
    "        9: [],\n",
    "        10: [],\n",
    "        11: [],\n",
    "        12: [],\n",
    "        13: [],\n",
    "        14: [],\n",
    "        15: []\n",
    "    }\n",
    "    return edges"
   ]
  },
  {
   "cell_type": "markdown",
   "metadata": {},
   "source": [
    "Then it will be necessary to implement the three search algorithms. The first algorithm to be implemented is the breadth-first search.\n",
    "The following cell will present the implementation of the breadth-first search algorithm. The function `bfs_dict` will receive the graph,\n",
    "the start node, and the goal node as input and will return the order in which the nodes were visited until the goal node was found.\n"
   ]
  },
  {
   "cell_type": "code",
   "execution_count": 131,
   "metadata": {},
   "outputs": [],
   "source": [
    "def bfs_dict(\n",
    "        graph: Dict[int, List[int]],\n",
    "        start: int,\n",
    "        goal: int\n",
    "        ) -> List[int]:\n",
    "    \"\"\"\n",
    "    Perform breadth-first search (BFS)\n",
    "    using a dictionary-based graph representation.\n",
    "\n",
    "    Args:\n",
    "        graph (Dict[int, List[int]]): The graph to search.\n",
    "        start (int): The starting node.\n",
    "        goal (int): The goal node.\n",
    "\n",
    "    Returns:\n",
    "        List[int]: The visited nodes in BFS order.\n",
    "    \"\"\"\n",
    "    visited: Set[int] = set() # Reached nodes\n",
    "    queue: deque[int] = deque([start]) # Frontier\n",
    "\n",
    "    while queue:\n",
    "        node: int = queue.popleft()\n",
    "\n",
    "        if node not in visited:\n",
    "            visited.add(node)\n",
    "\n",
    "            if node == goal:\n",
    "                break\n",
    "\n",
    "            for neighbor in sorted(graph[node]): # Get neighbors in ascending order\n",
    "                if neighbor not in visited:\n",
    "                    queue.append(neighbor)\n",
    "\n",
    "    return list(visited)"
   ]
  },
  {
   "cell_type": "markdown",
   "metadata": {},
   "source": [
    "The second algorithm to be implemented is the depth-first search. The following cell will present the implementation\n",
    "of the depth-first search algorithm. The function `dfs_dict` will receive the graph, the start node, and the goal\n",
    "node as input and will return the order in which the nodes were visited until the goal node was found.\n"
   ]
  },
  {
   "cell_type": "code",
   "execution_count": 132,
   "metadata": {},
   "outputs": [],
   "source": [
    "def dfs_dict(\n",
    "        graph: Dict[int, List[int]],\n",
    "        start: int,\n",
    "        goal: int\n",
    "        ) -> List[int]:\n",
    "    \"\"\"\n",
    "    Perform depth-first search (DFS)\n",
    "    using a dictionary-based graph representation.\n",
    "\n",
    "    Args:\n",
    "        graph (Dict[int, List[int]]): The graph to search.\n",
    "        start (int): The starting node.\n",
    "        goal (int): The goal node.\n",
    "\n",
    "    Returns:\n",
    "        List[int]: The visited nodes in DFS order.\n",
    "    \"\"\"\n",
    "    visited: Set[int] = set() # Reached nodes\n",
    "    stack: List[int] = [start] # Frontier\n",
    "\n",
    "    while stack:\n",
    "        node: int = stack.pop()\n",
    "\n",
    "        if node not in visited:\n",
    "            visited.add(node)\n",
    "\n",
    "            if node == goal:\n",
    "                break\n",
    "\n",
    "            for neighbor in sorted(graph[node], reverse=True):\n",
    "                if neighbor not in visited:\n",
    "                    stack.append(neighbor)\n",
    "\n",
    "    return list(visited)"
   ]
  },
  {
   "cell_type": "markdown",
   "metadata": {},
   "source": [
    "The third algorithm to be implemented is the iterative deepening depth-first search. The following cell will\n",
    "present the implementation of the iterative deepening depth-first search algorithm. The function `ids_dict`\n",
    "will receive the graph, the start node, the goal and the max depth permited as input and will return the order\n",
    "in which the nodes were visited until the goal node was found.\n"
   ]
  },
  {
   "cell_type": "code",
   "execution_count": 133,
   "metadata": {},
   "outputs": [],
   "source": [
    "def ids_dict(\n",
    "        graph: Dict[int, List[int]],\n",
    "        start: int,\n",
    "        goal: int,\n",
    "        max_depth: int\n",
    "        ) -> Optional[List[int]]:\n",
    "    \"\"\"\n",
    "    Perform iterative deepening search (IDS)\n",
    "    using a dictionary-based graph representation.\n",
    "\n",
    "    Args:\n",
    "        graph (Dict[int, List[int]]): The graph to search.\n",
    "        start (int): The starting node.\n",
    "        goal (int): The goal node.\n",
    "        max_depth (int): The maximum depth to search.\n",
    "\n",
    "    Returns:\n",
    "        Optional[List[int]]: The visited nodes in IDS order, if found.\n",
    "    \"\"\"\n",
    "    def dls_dict(node: int, depth: int) -> bool:\n",
    "        \"\"\"Depth-limited search helper function.\n",
    "\n",
    "        Args:\n",
    "            node (int): The current node.\n",
    "            depth (int): The current depth limit.\n",
    "\n",
    "        Returns:\n",
    "            bool: True if the goal node is found, False otherwise.\n",
    "        \"\"\"\n",
    "        if node not in visited:\n",
    "            visited.add(node)\n",
    "\n",
    "            if node == goal or depth == 0:\n",
    "                return node == goal\n",
    "            \n",
    "            elif depth > 0:\n",
    "                for neighbor in sorted(graph[node], reverse=True):\n",
    "                    if dls_dict(neighbor, depth - 1):\n",
    "                        return True\n",
    "        return False\n",
    "\n",
    "    for depth in range(max_depth + 1):\n",
    "\n",
    "        visited: Set[int] = set()\n",
    "        \n",
    "        if dls_dict(start, depth):\n",
    "            return list(visited)\n",
    "        \n",
    "    return None"
   ]
  },
  {
   "cell_type": "markdown",
   "metadata": {},
   "source": [
    "We now need to test if the algorithms are working correctly. So we will run the three algorithms with the\n",
    "graph presented in `Figure 1` and the goal state `11`.\n"
   ]
  },
  {
   "cell_type": "code",
   "execution_count": 134,
   "metadata": {},
   "outputs": [
    {
     "name": "stdout",
     "output_type": "stream",
     "text": [
      "BFS (Dictionary): [1, 2, 3, 4, 5, 6, 7, 8, 9, 10, 11]\n",
      "DFS (Dictionary): [1, 2, 4, 5, 8, 9, 10, 11]\n",
      "IDS (Dictionary): [1, 2, 3, 5, 6, 7, 11, 12, 13, 14, 15]\n"
     ]
    }
   ],
   "source": [
    "def main_dict() -> None:\n",
    "    \"\"\"Main function to demonstrate dictionary-based graph search.\"\"\"\n",
    "    graph: Dict[int, List[int]] = create_graph_dict()\n",
    "    start_node: int = 1\n",
    "    goal_node: int = 11\n",
    "    max_depth: int = 5\n",
    "\n",
    "    bfs_visited: List[int] = bfs_dict(graph, start_node, goal_node)\n",
    "    dfs_visited: List[int] = dfs_dict(graph, start_node, goal_node)\n",
    "    ids_visited: List[int] = ids_dict(graph, start_node, goal_node, max_depth) or []\n",
    "\n",
    "    print(f\"BFS (Dictionary): {bfs_visited}\")\n",
    "    print(f\"DFS (Dictionary): {dfs_visited}\")\n",
    "    print(f\"IDS (Dictionary): {ids_visited}\")\n",
    "\n",
    "main_dict()"
   ]
  },
  {
   "cell_type": "markdown",
   "metadata": {},
   "source": [
    "As we can appreciate the implementation of the three search algorithms are working correctly.\n"
   ]
  },
  {
   "cell_type": "code",
   "execution_count": 135,
   "metadata": {},
   "outputs": [],
   "source": [
    "import networkx as nx\n",
    "import matplotlib.pyplot as plt\n",
    "from collections import deque\n",
    "from typing import List, Optional"
   ]
  },
  {
   "cell_type": "markdown",
   "metadata": {},
   "source": [
    "The following cell defines a function that will be used to create the graph in `Figure 1`.\n"
   ]
  },
  {
   "cell_type": "code",
   "execution_count": 136,
   "metadata": {},
   "outputs": [],
   "source": [
    "def create_graph() -> nx.Graph:\n",
    "    fig1 = nx.Graph()\n",
    "    edges = [\n",
    "        (1, 2), (1, 3), (2, 4), (2, 5), (3, 6), (3, 7),\n",
    "        (4, 8), (4, 9), (5, 10), (5, 11), (6, 12), (6, 13), (7, 14), (7, 15)\n",
    "    ]\n",
    "    fig1.add_edges_from(edges)\n",
    "    return fig1"
   ]
  },
  {
   "cell_type": "markdown",
   "metadata": {},
   "source": [
    "For educational purposes, the graph will be plotted using the `networkx` and `matplotlib` libraries. But the following\n",
    "function will not be used in the analysis of the problem.\n"
   ]
  },
  {
   "cell_type": "code",
   "execution_count": 137,
   "metadata": {},
   "outputs": [
    {
     "data": {
      "image/png": "[encoded data removed]",
      "text/plain": [
       "<Figure size 640x480 with 1 Axes>"
      ]
     },
     "metadata": {},
     "output_type": "display_data"
    }
   ],
   "source": [
    "# plot the graph\n",
    "\n",
    "def plot_graph(graph: nx.Graph, title: Optional[str] = None):\n",
    "    # background color should be white\n",
    "    plt.figure()\n",
    "    plt.title(title)\n",
    "    pos = nx.spring_layout(graph)\n",
    "    nx.draw(graph, pos, with_labels=True, node_size=400, node_color='skyblue', font_weight='bold', font_color='black', edge_color='gray', width=1)\n",
    "    plt.show()\n",
    "\n",
    "g = create_graph()\n",
    "plot_graph(g, \"Graph\")"
   ]
  },
  {
   "cell_type": "markdown",
   "metadata": {},
   "source": [
    "As we can notice, currently the graph is a networkx graph. But, in order to use it in the search algorithms,\n",
    "it is necessary to convert it to a dictionary. The following cell defines a function that will be used to convert\n",
    "the networkx graph to a dictionary. So we can compare the results of the search algorithms with the graph in `Figure 1`\n",
    "with both implementations of the graph, the networkx and the dictionary.\n"
   ]
  },
  {
   "cell_type": "markdown",
   "metadata": {},
   "source": [
    "## Algorithms\n",
    "\n",
    "As mentioned before, the search algorithms that will be used are:\n",
    "\n",
    "1. Breadth-first search\n",
    "2. Depth-first search\n",
    "3. Iterative deepening depth-first search\n"
   ]
  },
  {
   "cell_type": "markdown",
   "metadata": {},
   "source": []
  },
  {
   "cell_type": "markdown",
   "metadata": {},
   "source": []
  },
  {
   "cell_type": "markdown",
   "metadata": {},
   "source": []
  },
  {
   "cell_type": "markdown",
   "metadata": {},
   "source": []
  }
 ],
 "metadata": {
  "kernelspec": {
   "display_name": "Python 3",
   "language": "python",
   "name": "python3"
  },
  "language_info": {
   "codemirror_mode": {
    "name": "ipython",
    "version": 3
   },
   "file_extension": ".py",
   "mimetype": "text/x-python",
   "name": "python",
   "nbconvert_exporter": "python",
   "pygments_lexer": "ipython3",
   "version": "3.12.1"
  }
 },
 "nbformat": 4,
 "nbformat_minor": 2
}
