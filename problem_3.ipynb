{
 "cells": [
  {
   "cell_type": "code",
   "execution_count": 69,
   "metadata": {},
   "outputs": [
    {
     "data": {
      "text/plain": [
       "[[1, 5, 8, 6, 3, 7, 2, 4]]"
      ]
     },
     "execution_count": 69,
     "metadata": {},
     "output_type": "execute_result"
    }
   ],
   "source": [
    "def dfs_8_queens(state, depth, solutions, limit=1):\n",
    "    # Verifica si ha colocado una reina en cada columna.\n",
    "    if depth == 8:\n",
    "        solutions.append(state.copy())\n",
    "        return True\n",
    "\n",
    "    for row in range(1, 9):  # Intenta cada fila en la columna actual.\n",
    "        if no_conflict(state, row, depth):  # Chequea si la posición es segura.\n",
    "            state[depth] = row  # Coloca la reina.\n",
    "            if dfs_8_queens(state, depth + 1, solutions, limit) and len(solutions) >= limit:\n",
    "                return True  # Si ya encontró las soluciones necesarias, retorna.\n",
    "            # Si no se encuentra solución, o se buscan más soluciones, hace backtrack.\n",
    "            state[depth] = 0\n",
    "    return False\n",
    "\n",
    "def no_conflict(state, row, depth):\n",
    "    # Comprueba si la reina a colocar no está en conflicto.\n",
    "    for i in range(depth):\n",
    "        if state[i] == row or abs(state[i] - row) == depth - i:\n",
    "            return False\n",
    "    return True\n",
    "\n",
    "# Prepara para encontrar soluciones.\n",
    "solutions = []\n",
    "state = [0] * 8  # Estado inicial.\n",
    "dfs_8_queens(state, 0, solutions, limit=1)  # Busca solo una solución para demostración.\n",
    "solutions  # Muestra las soluciones encontradas.\n"
   ]
  },
  {
   "cell_type": "code",
   "execution_count": 70,
   "metadata": {},
   "outputs": [
    {
     "data": {
      "text/plain": [
       "[1, 2, 3, 1, 2, 4, 5, 3, 6, 7, 1, 2, 4, 8, 9, 5, 10, 11]"
      ]
     },
     "execution_count": 70,
     "metadata": {},
     "output_type": "execute_result"
    }
   ],
   "source": [
    "from typing import Dict, List\n",
    "\n",
    "\n",
    "from typing import Dict, List\n",
    "\n",
    "def iterative_deepening_dfs(\n",
    "    graph: Dict[int, List[int]],\n",
    "    start_node: int,\n",
    "    goal: int\n",
    "    ) -> List[int]:\n",
    "\n",
    "    max_depth = 1\n",
    "    visited_order: List[int] = []\n",
    "\n",
    "    # Continue deepening the search until the goal is found\n",
    "    while True:\n",
    "        # Stack for the nodes (node, depth)\n",
    "        stack: List[tuple[int, int]] = [(start_node, 0)]  # Start with the specified node and depth 0\n",
    "\n",
    "        # Set of visited nodes to avoid revisits within the same depth level\n",
    "        visited_this_depth = set()\n",
    "\n",
    "        # Increase depth gradually, level by level\n",
    "        while stack:\n",
    "            node, depth = stack.pop()\n",
    "\n",
    "            # Skip if the node was visited at this level or deeper\n",
    "            if node in visited_this_depth or depth > max_depth:\n",
    "                continue\n",
    "\n",
    "            # Record visit\n",
    "            visited_order.append(node)\n",
    "            visited_this_depth.add(node)\n",
    "\n",
    "            # Check for the goal\n",
    "            if node == goal:\n",
    "                return visited_order\n",
    "\n",
    "            # Add neighbors to the stack if they haven't been visited at this depth\n",
    "            for neighbor in reversed(graph[node]):\n",
    "                if neighbor not in visited_this_depth:\n",
    "                    stack.append((neighbor, depth + 1))\n",
    "\n",
    "        # Increase the depth for the next iteration\n",
    "        max_depth += 1\n",
    "\n",
    "        # If we've reached maximum possible depth, break\n",
    "        if max_depth > len(graph):\n",
    "            break\n",
    "\n",
    "    return visited_order\n",
    "\n",
    "# Define the graph\n",
    "graph = {\n",
    "    1: [2, 3],\n",
    "    2: [4, 5],\n",
    "    3: [6, 7],\n",
    "    4: [8, 9],\n",
    "    5: [10, 11],  # Goal\n",
    "    6: [12, 13],\n",
    "    7: [14, 15],\n",
    "\n",
    "    # leaf nodes\n",
    "    8: [],\n",
    "    9: [],\n",
    "    10: [],\n",
    "    11: [],  # Goal\n",
    "    12: [],\n",
    "    13: [],\n",
    "    14: [],\n",
    "    15: []\n",
    "}\n",
    "\n",
    "\n",
    "visited_nodes_all1 = iterative_deepening_dfs(graph, 1, 11)\n",
    "visited_nodes_all2 = iterative_deepening_dfs(graph, 1, 11)\n",
    "\n",
    "visited_nodes_all1   # ([1, 2, 4, 8, 9, 5, 10, 11], [1, 2, 4, 8, 9, 5, 10, 11])\n",
    "\n",
    "  \n"
   ]
  },
  {
   "cell_type": "code",
   "execution_count": 71,
   "metadata": {},
   "outputs": [
    {
     "data": {
      "text/plain": [
       "[1, 1, 2, 3, 1, 2, 4, 5, 3, 6, 7, 1, 2, 4, 8, 9, 5, 10, 11]"
      ]
     },
     "execution_count": 71,
     "metadata": {},
     "output_type": "execute_result"
    }
   ],
   "source": [
    "from typing import Dict, List, Tuple\n",
    "\n",
    "def iterative_deepening_dfs(graph: Dict[int, List[int]], start: int, goal: int) -> List[int]:\n",
    "    # Limit depth for Iterative Deepening Search\n",
    "    max_depth = len(graph)\n",
    "    \n",
    "    # List to store the path of visited nodes\n",
    "    visited_nodes = []\n",
    "\n",
    "    # Iterative deepening loop\n",
    "    for limit in range(max_depth):\n",
    "        # Stack for nodes to visit, each element is a tuple (node, depth)\n",
    "        stack = [(start, 0)]\n",
    "        \n",
    "        # Track visited nodes at current depth\n",
    "        visited_at_current_depth = set()\n",
    "\n",
    "        # Explore the graph within the current depth limit\n",
    "        while stack:\n",
    "            current_node, depth = stack.pop()\n",
    "\n",
    "            # Skip the node if it has been visited at the current depth\n",
    "            if current_node in visited_at_current_depth:\n",
    "                continue\n",
    "            \n",
    "            # Mark the node as visited\n",
    "            visited_nodes.append(current_node)\n",
    "            visited_at_current_depth.add(current_node)\n",
    "\n",
    "            # Goal check\n",
    "            if current_node == goal:\n",
    "                return visited_nodes\n",
    "            \n",
    "            # Check if the limit has been reached\n",
    "            if depth < limit:\n",
    "                # Add adjacent nodes to the stack\n",
    "                for neighbor in reversed(graph[current_node]):\n",
    "                    stack.append((neighbor, depth + 1))\n",
    "    \n",
    "    # Return visited nodes if the goal is not found within the depth limit\n",
    "    return visited_nodes\n",
    "\n",
    "# Define the graph structure\n",
    "graph = {\n",
    "    1: [2, 3],\n",
    "    2: [4, 5],\n",
    "    3: [6, 7],\n",
    "    4: [8, 9],\n",
    "    5: [10, 11],  # Goal\n",
    "    6: [12, 13],\n",
    "    7: [14, 15],\n",
    "    8: [],\n",
    "    9: [],\n",
    "    10: [],\n",
    "    11: [],  # Goal\n",
    "    12: [],\n",
    "    13: [],\n",
    "    14: [],\n",
    "    15: []\n",
    "}\n",
    "\n",
    "# Perform the iterative deepening depth-first search from node 1 to find node 11 (goal)\n",
    "iterative_deepening_dfs(graph, 1, 11)\n"
   ]
  },
  {
   "cell_type": "code",
   "execution_count": 72,
   "metadata": {},
   "outputs": [
    {
     "data": {
      "text/plain": [
       "[1, 1, 2, 3, 1, 2, 4, 5, 3, 6, 7, 1, 2, 4, 8, 9, 5, 10, 11]"
      ]
     },
     "execution_count": 72,
     "metadata": {},
     "output_type": "execute_result"
    }
   ],
   "source": [
    "def iddfs(graph, start, goal, max_depth):\n",
    "    visited_nodes = []\n",
    "\n",
    "    for limit in range(max_depth):\n",
    "        stack = [(start, 0)]\n",
    "        \n",
    "        visited_at_current_depth = []\n",
    "\n",
    "        while stack:\n",
    "            current_node, depth = stack.pop()\n",
    "\n",
    "            if current_node in visited_at_current_depth:\n",
    "                continue\n",
    "            \n",
    "            visited_nodes.append(current_node)\n",
    "            visited_at_current_depth.append(current_node)\n",
    "\n",
    "            if current_node == goal:\n",
    "                return visited_nodes\n",
    "            \n",
    "            if depth < limit:\n",
    "                for neighbor in reversed(graph[current_node]):\n",
    "                    stack.append((neighbor, depth + 1))\n",
    "    \n",
    "    return visited_nodes\n",
    "\n",
    "a = iddfs(graph, 1, 11, 4)\n",
    "a"
   ]
  }
 ],
 "metadata": {
  "kernelspec": {
   "display_name": "Python 3",
   "language": "python",
   "name": "python3"
  },
  "language_info": {
   "codemirror_mode": {
    "name": "ipython",
    "version": 3
   },
   "file_extension": ".py",
   "mimetype": "text/x-python",
   "name": "python",
   "nbconvert_exporter": "python",
   "pygments_lexer": "ipython3",
   "version": "3.12.1"
  }
 },
 "nbformat": 4,
 "nbformat_minor": 2
}
