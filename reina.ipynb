{
 "cells": [
  {
   "cell_type": "code",
   "execution_count": 2,
   "metadata": {},
   "outputs": [
    {
     "data": {
      "text/plain": [
       "[[1, 5, 8, 6, 3, 7, 2, 4]]"
      ]
     },
     "execution_count": 2,
     "metadata": {},
     "output_type": "execute_result"
    }
   ],
   "source": [
    "def dfs_8_queens(state, depth, solutions, limit=1):\n",
    "    # Verifica si ha colocado una reina en cada columna.\n",
    "    if depth == 8:\n",
    "        solutions.append(state.copy())\n",
    "        return True\n",
    "\n",
    "    for row in range(1, 9):  # Intenta cada fila en la columna actual.\n",
    "        if no_conflict(state, row, depth):  # Chequea si la posición es segura.\n",
    "            state[depth] = row  # Coloca la reina.\n",
    "            if dfs_8_queens(state, depth + 1, solutions, limit) and len(solutions) >= limit:\n",
    "                return True  # Si ya encontró las soluciones necesarias, retorna.\n",
    "            # Si no se encuentra solución, o se buscan más soluciones, hace backtrack.\n",
    "            state[depth] = 0\n",
    "    return False\n",
    "\n",
    "def no_conflict(state, row, depth):\n",
    "    # Comprueba si la reina a colocar no está en conflicto.\n",
    "    for i in range(depth):\n",
    "        if state[i] == row or abs(state[i] - row) == depth - i:\n",
    "            return False\n",
    "    return True\n",
    "\n",
    "# Prepara para encontrar soluciones.\n",
    "solutions = []\n",
    "state = [0] * 8  # Estado inicial.\n",
    "dfs_8_queens(state, 0, solutions, limit=1)  # Busca solo una solución para demostración.\n",
    "solutions  # Muestra las soluciones encontradas.\n"
   ]
  }
 ],
 "metadata": {
  "kernelspec": {
   "display_name": "Python 3",
   "language": "python",
   "name": "python3"
  },
  "language_info": {
   "codemirror_mode": {
    "name": "ipython",
    "version": 3
   },
   "file_extension": ".py",
   "mimetype": "text/x-python",
   "name": "python",
   "nbconvert_exporter": "python",
   "pygments_lexer": "ipython3",
   "version": "3.12.1"
  }
 },
 "nbformat": 4,
 "nbformat_minor": 2
}
