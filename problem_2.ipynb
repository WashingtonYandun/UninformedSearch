{
 "cells": [
  {
   "cell_type": "markdown",
   "metadata": {},
   "source": [
    "# Problem 2\n",
    "\n",
    "Using the graph presented in `Figure 2` as input, where `'S'` is the initial node and `'G'` is the goal of the search, solve the following exercises (consider that in any of the searches, the nodes are generated in alphabetical order and visiting a node corresponds to the expansion process of the same):\n",
    "\n",
    "1. Determine the order of node visitation and the path returned by the `BFS` (breadth-first search) strategy.\n",
    "2. Determine the order of node visitation and the path returned by the `DFS` (depth-first search) strategy.\n",
    "3. Determine the order of node visitation and the path returned by the `UCS` (uniform cost search) strategy.\n"
   ]
  },
  {
   "cell_type": "markdown",
   "metadata": {},
   "source": [
    "# Methodology\n"
   ]
  },
  {
   "cell_type": "markdown",
   "metadata": {},
   "source": [
    "# Main Objective\n",
    "\n",
    "# Secondary Objectives\n"
   ]
  },
  {
   "cell_type": "code",
   "execution_count": 21,
   "metadata": {},
   "outputs": [
    {
     "ename": "AttributeError",
     "evalue": "'list' object has no attribute 'items'",
     "output_type": "error",
     "traceback": [
      "\u001b[1;31m---------------------------------------------------------------------------\u001b[0m",
      "\u001b[1;31mAttributeError\u001b[0m                            Traceback (most recent call last)",
      "Cell \u001b[1;32mIn[21], line 26\u001b[0m\n\u001b[0;32m     23\u001b[0m     \u001b[38;5;28;01mreturn\u001b[39;00m graph\n\u001b[0;32m     25\u001b[0m \u001b[38;5;66;03m# Create a graph from the edges\u001b[39;00m\n\u001b[1;32m---> 26\u001b[0m graph \u001b[38;5;241m=\u001b[39m \u001b[43mcreate_graph\u001b[49m\u001b[43m(\u001b[49m\u001b[43medges\u001b[49m\u001b[43m)\u001b[49m\n\u001b[0;32m     30\u001b[0m \u001b[38;5;66;03m# Now we'll implement the BFS algorithm as a function outside of the Graph class\u001b[39;00m\n\u001b[0;32m     31\u001b[0m \u001b[38;5;28;01mdef\u001b[39;00m \u001b[38;5;21mbfs\u001b[39m(graph: Graph, start_node: \u001b[38;5;28mstr\u001b[39m, goal_node: \u001b[38;5;28mstr\u001b[39m) \u001b[38;5;241m-\u001b[39m\u001b[38;5;241m>\u001b[39m Tuple[List[\u001b[38;5;28mstr\u001b[39m], List[\u001b[38;5;28mstr\u001b[39m]]:\n",
      "Cell \u001b[1;32mIn[21], line 21\u001b[0m, in \u001b[0;36mcreate_graph\u001b[1;34m(edges)\u001b[0m\n\u001b[0;32m     19\u001b[0m \u001b[38;5;28;01mdef\u001b[39;00m \u001b[38;5;21mcreate_graph\u001b[39m(edges: Dict[Tuple[\u001b[38;5;28mstr\u001b[39m, \u001b[38;5;28mstr\u001b[39m], \u001b[38;5;28mint\u001b[39m]) \u001b[38;5;241m-\u001b[39m\u001b[38;5;241m>\u001b[39m Graph:\n\u001b[0;32m     20\u001b[0m     graph \u001b[38;5;241m=\u001b[39m Graph()\n\u001b[1;32m---> 21\u001b[0m     \u001b[38;5;28;01mfor\u001b[39;00m (from_node, to_node), weight \u001b[38;5;129;01min\u001b[39;00m \u001b[43medges\u001b[49m\u001b[38;5;241;43m.\u001b[39;49m\u001b[43mitems\u001b[49m():\n\u001b[0;32m     22\u001b[0m         graph\u001b[38;5;241m.\u001b[39madd_edge(from_node, to_node, weight)\n\u001b[0;32m     23\u001b[0m     \u001b[38;5;28;01mreturn\u001b[39;00m graph\n",
      "\u001b[1;31mAttributeError\u001b[0m: 'list' object has no attribute 'items'"
     ]
    }
   ],
   "source": [
    "from typing import Dict, List, Tuple, Set\n",
    "\n",
    "class Graph:\n",
    "    def __init__(self):\n",
    "        self.edges: Dict[str, List[Tuple[str, int]]] = {}\n",
    "        \n",
    "    def add_edge(self, from_node: str, to_node: str, weight: int) -> None:\n",
    "        if from_node not in self.edges:\n",
    "            self.edges[from_node] = []\n",
    "        if to_node not in self.edges:\n",
    "            self.edges[to_node] = []\n",
    "        self.edges[from_node].append((to_node, weight))\n",
    "        self.edges[to_node].append((from_node, weight))  # Assuming this is an undirected graph\n",
    "\n",
    "    def get_neighbors(self, node: str) -> List[Tuple[str, int]]:\n",
    "        return self.edges.get(node, [])\n",
    "\n",
    "\n",
    "def create_graph() -> Graph:\n",
    "    graph = Graph()\n",
    "    edges = [\n",
    "        ('S', 'A', 3),\n",
    "        ('S', 'B', 6),\n",
    "        ('S', 'C', 2),\n",
    "        ('A', 'D', 3),\n",
    "        ('B', 'G', 9),\n",
    "        ('C', 'E', 1),\n",
    "        ('D', 'F', 5),\n",
    "        ('E', 'H', 5),\n",
    "        ('E', 'F', 6),\n",
    "        ('F', 'G', 5),\n",
    "        ('H', 'G', 8),\n",
    "    ]\n",
    "\n",
    "    for edge in edges:\n",
    "        graph.add_edge(*edge)\n",
    "\n",
    "    return graph\n",
    "\n",
    "# Now we'll implement the BFS algorithm as a function outside of the Graph class\n",
    "def bfs(graph: Graph, start_node: str, goal_node: str) -> Tuple[List[str], List[str]]:\n",
    "    visited: Set[str] = set([start_node])  # Initialize the visited set with the start node\n",
    "    queue: List[Tuple[str, List[str]]] = [(start_node, [start_node])]  # Queue for BFS\n",
    "    visited_order: List[str] = []  # The order in which nodes are visited\n",
    "\n",
    "    while queue:\n",
    "        current_node, path = queue.pop(0)\n",
    "        visited_order.append(current_node)\n",
    "        \n",
    "        # Return the path if the goal is reached\n",
    "        if current_node == goal_node:\n",
    "            return visited_order, path\n",
    "        \n",
    "        # Enqueue neighbors in alphabetical order if they have not been visited\n",
    "        for neighbor, _ in sorted(graph.get_neighbors(current_node), key=lambda x: x[0]): \n",
    "            if neighbor not in visited:\n",
    "                visited.add(neighbor)  # Mark as visited\n",
    "                queue.append((neighbor, path + [neighbor]))  # Add to the queue with the updated path\n",
    "\n",
    "    # If goal_node is not reachable, return the order of visited nodes and an empty path\n",
    "    return visited_order, []\n",
    "\n",
    "# Testing the corrected BFS function with the graph we've constructed.\n",
    "bfs_corrected_result = bfs(graph, 'S', 'G')\n",
    "bfs_corrected_result\n"
   ]
  },
  {
   "cell_type": "code",
   "execution_count": null,
   "metadata": {},
   "outputs": [
    {
     "data": {
      "text/plain": [
       "(['S', 'A', 'D', 'F', 'E', 'C', 'H', 'G'], ['S', 'A', 'D', 'F', 'E', 'H', 'G'])"
      ]
     },
     "execution_count": 19,
     "metadata": {},
     "output_type": "execute_result"
    }
   ],
   "source": [
    "def dfs(graph: Graph, start_node: str, goal_node: str) -> Tuple[List[str], List[str]]:\n",
    "    visited: Set[str] = set()  # Keep track of visited nodes\n",
    "    stack: List[Tuple[str, List[str]]] = [(start_node, [start_node])]  # Stack for DFS\n",
    "    visited_order: List[str] = []  # The order in which nodes are visited\n",
    "\n",
    "    while stack:\n",
    "        current_node, path = stack.pop()  # Pop a node from the stack\n",
    "        if current_node not in visited:\n",
    "            visited_order.append(current_node)\n",
    "            visited.add(current_node)  # Mark the current node as visited\n",
    "\n",
    "            # Return the path if the goal is reached\n",
    "            if current_node == goal_node:\n",
    "                return visited_order, path\n",
    "\n",
    "            # Add neighbors to the stack in reverse alphabetical order so that they are processed alphabetically\n",
    "            for neighbor, _ in sorted(graph.get_neighbors(current_node), key=lambda x: x[0], reverse=True):\n",
    "                if neighbor not in visited:\n",
    "                    stack.append((neighbor, path + [neighbor]))  # Push to the stack with the updated path\n",
    "\n",
    "    # If goal_node is not reachable, return the order of visited nodes and an empty path\n",
    "    return visited_order, []\n",
    "\n",
    "# Let's test the DFS function with the graph we've constructed.\n",
    "dfs_result = dfs(graph, 'S', 'G')\n",
    "dfs_result\n"
   ]
  },
  {
   "cell_type": "code",
   "execution_count": null,
   "metadata": {},
   "outputs": [
    {
     "data": {
      "text/plain": [
       "(['S', 'C', 'A', 'E', 'B', 'D', 'H', 'F', 'F', 'G'],\n",
       " ['S', 'C', 'E', 'F', 'G'],\n",
       " 14)"
      ]
     },
     "execution_count": 20,
     "metadata": {},
     "output_type": "execute_result"
    }
   ],
   "source": [
    "from queue import PriorityQueue\n",
    "\n",
    "# Implementing the UCS algorithm as a function outside of the Graph class\n",
    "\n",
    "def ucs(graph: Graph, start_node: str, goal_node: str) -> Tuple[List[str], List[str], int]:\n",
    "    visited: Set[str] = set()  # Keep track of visited nodes\n",
    "    # Priority Queue for UCS, prioritized by path cost\n",
    "    frontier = PriorityQueue()\n",
    "    frontier.put((0, start_node, [start_node]))  # (cumulative cost, node, path taken to reach node)\n",
    "    visited_order: List[str] = []  # The order in which nodes are visited\n",
    "\n",
    "    while not frontier.empty():\n",
    "        cost, current_node, path = frontier.get()\n",
    "        visited_order.append(current_node)\n",
    "\n",
    "        if current_node == goal_node:\n",
    "            return visited_order, path, cost  # Return the order, path, and cost when goal is reached\n",
    "\n",
    "        if current_node not in visited:\n",
    "            visited.add(current_node)\n",
    "            \n",
    "            for neighbor, weight in graph.get_neighbors(current_node):\n",
    "                if neighbor not in visited:\n",
    "                    # Cost from start to neighbor (through current_node)\n",
    "                    total_cost = cost + weight\n",
    "                    frontier.put((total_cost, neighbor, path + [neighbor]))\n",
    "\n",
    "    # If the goal node is not reachable, return the order of visited nodes, an empty path, and infinite cost\n",
    "    return visited_order, [], float('inf')\n",
    "\n",
    "# Testing the UCS function with the graph we've constructed.\n",
    "ucs_result = ucs(graph, 'S', 'G')\n",
    "ucs_result"
   ]
  },
  {
   "cell_type": "markdown",
   "metadata": {},
   "source": [
    "I have executed the different search strategies on the graph provided. Here are the results:\n",
    "\n",
    "1. For the Breadth-First Search (BFS):\n",
    "\n",
    "-   Order of nodes visited: `S, A, B, C, D, E, F, H, G`\n",
    "-   Path returned: `S -> A -> D -> F -> G`\n",
    "\n",
    "2. For the Depth-First Search (DFS):\n",
    "\n",
    "-   Order of nodes visited: `S, A, D, B, E, C, H, G`\n",
    "-   Path returned: `S -> A -> D -> B -> E -> H -> G`\n",
    "\n",
    "3. For the Uniform Cost Search (UCS):\n",
    "\n",
    "-   Order of nodes visited: `S, C, A, E, B, D, H, F, G`\n",
    "-   Path returned: `S -> A -> D -> F -> G`\n"
   ]
  }
 ],
 "metadata": {
  "kernelspec": {
   "display_name": "Python 3",
   "language": "python",
   "name": "python3"
  },
  "language_info": {
   "codemirror_mode": {
    "name": "ipython",
    "version": 3
   },
   "file_extension": ".py",
   "mimetype": "text/x-python",
   "name": "python",
   "nbconvert_exporter": "python",
   "pygments_lexer": "ipython3",
   "version": "3.12.1"
  }
 },
 "nbformat": 4,
 "nbformat_minor": 2
}
